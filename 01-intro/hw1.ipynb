{
 "cells": [
  {
   "cell_type": "markdown",
   "id": "8a5d1102-1d2a-4429-9eb9-d8b25db26c11",
   "metadata": {},
   "source": [
    "### Q1"
   ]
  },
  {
   "cell_type": "raw",
   "id": "70c27137-f356-4544-9f59-780165f6b9ea",
   "metadata": {},
   "source": [
    "Run Elastic Search 8.4.3, and get the cluster information. If you run it on localhost, this is how you do it:\n",
    "\n",
    "curl localhost:9200\n",
    "What's the version.build_hash value?\n",
    "\n",
    "\n",
    "{  \n",
    "    \"name\":  \"76a83ed3d80a\",\n",
    "    \"cluster_name\":  \"docker-cluster\",\n",
    "    \"cluster_uuid\":  \"tDUv-5yWSGS6MPHc0Vg7Hw\",\n",
    "    \"version\":  {\n",
    "                    \"number\":  \"8.4.3\",\n",
    "                    \"build_flavor\":  \"default\",\n",
    "                    \"build_type\":  \"docker\",\n",
    "                    \"build_hash\":  \"42f05b9372a9a4a470db3b52817899b99a76ee73\",\n",
    "                    \"build_date\":  \"2022-10-04T07:17:24.662462378Z\",\n",
    "                    \"build_snapshot\":  false,\n",
    "                    \"lucene_version\":  \"9.3.0\",\n",
    "                    \"minimum_wire_compatibility_version\":  \"7.17.0\",\n",
    "                    \"minimum_index_compatibility_version\":  \"7.0.0\"\n",
    "                },\n",
    "    \"tagline\":  \"You Know, for Search\"\n",
    "}\n",
    "\n",
    "answer: 42f05b9372a9a4a470db3b52817899b99a76ee73"
   ]
  },
  {
   "cell_type": "markdown",
   "id": "644b083b-540d-4ceb-806c-a2013097885c",
   "metadata": {},
   "source": [
    "### Getting the data"
   ]
  },
  {
   "cell_type": "code",
   "execution_count": 2,
   "id": "4862f8c2-0634-446e-a63c-29bdc65e3949",
   "metadata": {},
   "outputs": [
    {
     "name": "stdout",
     "output_type": "stream",
     "text": [
      "{'text': \"The purpose of this document is to capture frequently asked technical questions\\nThe exact day and hour of the course will be 15th Jan 2024 at 17h00. The course will start with the first  “Office Hours'' live.1\\nSubscribe to course public Google Calendar (it works from Desktop only).\\nRegister before the course starts using this link.\\nJoin the course Telegram channel with announcements.\\nDon’t forget to register in DataTalks.Club's Slack and join the channel.\", 'section': 'General course-related questions', 'question': 'Course - When will the course start?', 'course': 'data-engineering-zoomcamp'}\n"
     ]
    }
   ],
   "source": [
    "import requests \n",
    "\n",
    "docs_url = 'https://github.com/DataTalksClub/llm-zoomcamp/blob/main/01-intro/documents.json?raw=1'\n",
    "docs_response = requests.get(docs_url)\n",
    "documents_raw = docs_response.json()\n",
    "\n",
    "documents = []\n",
    "\n",
    "for course in documents_raw:\n",
    "    course_name = course['course']\n",
    "\n",
    "    for doc in course['documents']:\n",
    "        doc['course'] = course_name\n",
    "        documents.append(doc)\n",
    "\n",
    "\n",
    "print(documents[0])"
   ]
  },
  {
   "cell_type": "markdown",
   "id": "306aa9e9-f81b-4204-ab4f-6784b6429fe8",
   "metadata": {},
   "source": [
    "### Q2"
   ]
  },
  {
   "cell_type": "raw",
   "id": "7050197f-577e-44dd-b509-6867bd0cc916",
   "metadata": {},
   "source": [
    "Index the data in the same way as was shown in the course videos. Make the course field a keyword and the rest should be text.\n",
    "\n",
    "Don't forget to install the ElasticSearch client for Python:\n",
    "\n",
    "pip install elasticsearch\n",
    "Which function do you use for adding your data to elastic?\n",
    "\n",
    "insert\n",
    "index\n",
    "put\n",
    "add\n",
    "\n",
    "answer: index"
   ]
  },
  {
   "cell_type": "code",
   "execution_count": 9,
   "id": "bd9f7d06-d1eb-4a18-87a9-f257c4d52716",
   "metadata": {},
   "outputs": [
    {
     "name": "stderr",
     "output_type": "stream",
     "text": [
      "100%|███████████████████████████████████████████████████████████████████████████████████████████████████████████████████████████████████████| 948/948 [04:09<00:00,  3.79it/s]\n"
     ]
    }
   ],
   "source": [
    "from elasticsearch import Elasticsearch\n",
    "from tqdm.auto import tqdm\n",
    "\n",
    "es_client = Elasticsearch(\"http://localhost:9200\")\n",
    "\n",
    "index_settings = {\n",
    "    \"settings\": {\n",
    "        \"number_of_shards\": 1,\n",
    "        \"number_of_replicas\": 0\n",
    "    },\n",
    "    \"mappings\": {\n",
    "        \"properties\": {\n",
    "            \"text\": {\"type\": \"text\"},\n",
    "            \"section\": {\"type\": \"text\"},\n",
    "            \"question\": {\"type\": \"text\"},\n",
    "            \"course\": {\"type\": \"keyword\"}\n",
    "        }\n",
    "    }\n",
    "}\n",
    "\n",
    "index_name = \"course-questions-hw\"\n",
    "\n",
    "es_client.indices.create(index=index_name, body=index_settings)\n",
    "\n",
    "for doc in tqdm(documents):\n",
    "    es_client.index(index=index_name, document=doc)\n"
   ]
  },
  {
   "cell_type": "markdown",
   "id": "ae4eee14-a544-4cd0-be27-809d6c85724d",
   "metadata": {},
   "source": [
    "### Q3"
   ]
  },
  {
   "cell_type": "raw",
   "id": "1f458d3c-7ad7-4ccb-bec4-f681c658da5f",
   "metadata": {},
   "source": [
    "Now let's search in our index.\n",
    "\n",
    "We will execute a query \"How do I execute a command in a running docker container?\".\n",
    "\n",
    "Use only question and text fields and give question a boost of 4, and use \"type\": \"best_fields\".\n",
    "\n",
    "What's the score for the top ranking result?\n",
    "\n",
    "94.05\n",
    "84.05\n",
    "74.05\n",
    "64.05\n",
    "Look at the _score field.\n",
    "\n",
    "answer: 84.05 (there is no filter)"
   ]
  },
  {
   "cell_type": "code",
   "execution_count": 14,
   "id": "520ffb06-0114-4235-8d3e-17913feda541",
   "metadata": {},
   "outputs": [
    {
     "name": "stdout",
     "output_type": "stream",
     "text": [
      "Score: 84.050095, Document: {'text': 'Launch the container image in interactive mode and overriding the entrypoint, so that it starts a bash command.\\ndocker run -it --entrypoint bash <image>\\nIf the container is already running, execute a command in the specific container:\\ndocker ps (find the container-id)\\ndocker exec -it <container-id> bash\\n(Marcos MJD)', 'section': '5. Deploying Machine Learning Models', 'question': 'How do I debug a docker container?', 'course': 'machine-learning-zoomcamp'}\n",
      "Score: 75.54128, Document: {'text': 'In case running pgcli  locally causes issues or you do not want to install it locally you can use it running in a Docker container instead.\\nBelow the usage with values used in the videos of the course for:\\nnetwork name (docker network)\\npostgres related variables for pgcli\\nHostname\\nUsername\\nPort\\nDatabase name\\n$ docker run -it --rm --network pg-network ai2ys/dockerized-pgcli:4.0.1\\n175dd47cda07:/# pgcli -h pg-database -U root -p 5432 -d ny_taxi\\nPassword for root:\\nServer: PostgreSQL 16.1 (Debian 16.1-1.pgdg120+1)\\nVersion: 4.0.1\\nHome: http://pgcli.com\\nroot@pg-database:ny_taxi> \\\\dt\\n+--------+------------------+-------+-------+\\n| Schema | Name             | Type  | Owner |\\n|--------+------------------+-------+-------|\\n| public | yellow_taxi_data | table | root  |\\n+--------+------------------+-------+-------+\\nSELECT 1\\nTime: 0.009s\\nroot@pg-database:ny_taxi>', 'section': 'Module 1: Docker and Terraform', 'question': 'PGCLI - running in a Docker container', 'course': 'data-engineering-zoomcamp'}\n",
      "Score: 72.08518, Document: {'text': 'If you are trying to run Flask gunicorn & MLFlow server from the same container, defining both in Dockerfile with CMD will only run MLFlow & not Flask.\\nSolution: Create separate shell script with server run commands, for eg:\\n> \\tscript1.sh\\n#!/bin/bash\\ngunicorn --bind=0.0.0.0:9696 predict:app\\nAnother script with e.g. MLFlow server:\\n>\\tscript2.sh\\n#!/bin/bash\\nmlflow server -h 0.0.0.0 -p 5000 --backend-store-uri=sqlite:///mlflow.db --default-artifact-root=g3://zc-bucket/mlruns/\\nCreate a wrapper script to run above 2 scripts:\\n>\\twrapper_script.sh\\n#!/bin/bash\\n# Start the first process\\n./script1.sh &\\n# Start the second process\\n./script2.sh &\\n# Wait for any process to exit\\nwait -n\\n# Exit with status of process that exited first\\nexit $?\\nGive executable permissions to all scripts:\\nchmod +x *.sh\\nNow we can define last line of Dockerfile as:\\n> \\tDockerfile\\nCMD ./wrapper_script.sh\\nDont forget to expose all ports defined by services!', 'section': 'Module 4: Deployment', 'question': 'Running multiple services in a Docker container', 'course': 'mlops-zoomcamp'}\n",
      "Score: 51.04628, Document: {'text': \"You can copy files from your local machine into a Docker container using the docker cp command. Here's how to do it:\\nTo copy a file or directory from your local machine into a running Docker container, you can use the `docker cp command`. The basic syntax is as follows:\\ndocker cp /path/to/local/file_or_directory container_id:/path/in/container\\nHrithik Kumar Advani\", 'section': '5. Deploying Machine Learning Models', 'question': 'How do I copy files from my local machine to docker container?', 'course': 'machine-learning-zoomcamp'}\n",
      "Score: 49.938507, Document: {'text': 'You can copy files from your local machine into a Docker container using the docker cp command. Here\\'s how to do it:\\nIn the Dockerfile, you can provide the folder containing the files that you want to copy over. The basic syntax is as follows:\\nCOPY [\"src/predict.py\", \"models/xgb_model.bin\", \"./\"]\\t\\t\\t\\t\\t\\t\\t\\t\\t\\t\\tGopakumar Gopinathan', 'section': '5. Deploying Machine Learning Models', 'question': 'How do I copy files from a different folder into docker container’s working directory?', 'course': 'machine-learning-zoomcamp'}\n"
     ]
    }
   ],
   "source": [
    "query = 'How do I execute a command in a running docker container?'\n",
    "\n",
    "def elastic_search(query):\n",
    "    search_query = {\n",
    "        \"size\": 5,  # Only 5 answers\n",
    "        \"query\": {\n",
    "            \"bool\": {\n",
    "                \"must\": {\n",
    "                    \"multi_match\": {\n",
    "                        \"query\": query,\n",
    "                        \"fields\": [\"question^4\", \"text\"],  # Importance levels\n",
    "                        \"type\": \"best_fields\"\n",
    "                    }    # there is no filter \n",
    "                }\n",
    "            }\n",
    "        }\n",
    "    }\n",
    "\n",
    "    response = es_client.search(index=index_name, body=search_query)\n",
    "\n",
    "    result_docs = []\n",
    "    scores = []\n",
    "\n",
    "    for hit in response['hits']['hits']:\n",
    "        result_docs.append(hit['_source'])\n",
    "        scores.append(hit['_score'])\n",
    "\n",
    "    return result_docs, scores\n",
    "\n",
    "\n",
    "results, scores = elastic_search(query)\n",
    "\n",
    "for doc, score in zip(results, scores):\n",
    "    print(f\"Score: {score}, Document: {doc}\")"
   ]
  },
  {
   "cell_type": "markdown",
   "id": "ed4190f3-6ff9-4c08-b481-20709348bf1d",
   "metadata": {},
   "source": [
    "### Q4"
   ]
  },
  {
   "cell_type": "raw",
   "id": "11d55764-c3ef-4df6-a261-0840ad828e1b",
   "metadata": {},
   "source": [
    "Filtering\n",
    "Now let's only limit the questions to machine-learning-zoomcamp.\n",
    "\n",
    "Return 3 results. What's the 3rd question returned by the search engine?\n",
    "\n",
    "How do I debug a docker container?\n",
    "How do I copy files from a different folder into docker container’s working directory?\n",
    "How do Lambda container images work?\n",
    "How can I annotate a graph?"
   ]
  },
  {
   "cell_type": "code",
   "execution_count": 16,
   "id": "3183e34f-7a93-4734-be8d-39d2a6e737b1",
   "metadata": {},
   "outputs": [
    {
     "name": "stdout",
     "output_type": "stream",
     "text": [
      "The 3rd question returned by the search engine is: 'How do I copy files from a different folder into docker container’s working directory?'\n"
     ]
    }
   ],
   "source": [
    "query = 'How do I execute a command in a running docker container?'\n",
    "\n",
    "def elastic_search(query):\n",
    "    search_query = {\n",
    "        \"size\": 3,  # Return 3 results\n",
    "        \"query\": {\n",
    "            \"bool\": {\n",
    "                \"must\": {\n",
    "                    \"multi_match\": {\n",
    "                        \"query\": query,\n",
    "                        \"fields\": [\"question^4\", \"text\"],  # Importance levels\n",
    "                        \"type\": \"best_fields\"\n",
    "                    }\n",
    "                },\n",
    "                \"filter\": {\n",
    "                    \"term\": {\n",
    "                        \"course\": \"machine-learning-zoomcamp\"   # filtering part\n",
    "                    }\n",
    "                }\n",
    "            }\n",
    "        }\n",
    "    }\n",
    "\n",
    "    response = es_client.search(index=index_name, body=search_query)\n",
    "\n",
    "    result_docs = []\n",
    "    for hit in response['hits']['hits']:\n",
    "        result_docs.append(hit['_source']['question'])\n",
    "\n",
    "    return result_docs\n",
    "\n",
    "\n",
    "# Get the filtered questions\n",
    "questions = elastic_search(query)\n",
    "\n",
    "# Print the 3rd question\n",
    "print(f\"The 3rd question returned by the search engine is: '{questions[2]}'\")"
   ]
  },
  {
   "cell_type": "markdown",
   "id": "e3795406-ab40-47fe-b5ae-2544fe20b28f",
   "metadata": {},
   "source": [
    "### Q5"
   ]
  },
  {
   "cell_type": "raw",
   "id": "ccf876f3-e527-41c1-b5f6-a0408ebc3578",
   "metadata": {},
   "source": [
    "Building a prompt\n",
    "Now we're ready to build a prompt to send to an LLM.\n",
    "\n",
    "Take the records returned from Elasticsearch in Q4 and use this template to build the context. Separate context entries by two linebreaks (\\n\\n)\n",
    "\n",
    "context_template = \"\"\"\n",
    "Q: {question}\n",
    "A: {text}\n",
    "\"\"\".strip()\n",
    "Now use the context you just created along with the \"How do I execute a command in a running docker container?\" question to construct a prompt using the template below:\n",
    "\n",
    "prompt_template = \"\"\"\n",
    "You're a course teaching assistant. Answer the QUESTION based on the CONTEXT from the FAQ database.\n",
    "Use only the facts from the CONTEXT when answering the QUESTION.\n",
    "\n",
    "QUESTION: {question}\n",
    "\n",
    "CONTEXT:\n",
    "{context}\n",
    "\"\"\".strip()\n",
    "What's the length of the resulting prompt? (use the len function)\n",
    "\n",
    "962\n",
    "1462\n",
    "1962\n",
    "2462"
   ]
  },
  {
   "cell_type": "code",
   "execution_count": 27,
   "id": "7adc17da-dcde-400a-a86f-3d154d6882ee",
   "metadata": {},
   "outputs": [
    {
     "name": "stdout",
     "output_type": "stream",
     "text": [
      "You're a course teaching assistant. Answer the QUESTION based on the CONTEXT from the FAQ database.\n",
      "Use only the facts from the CONTEXT when answering the QUESTION.\n",
      "\n",
      "QUESTION: How do I execute a command in a running docker container?\n",
      "\n",
      "CONTEXT:\n",
      "Q: How do I debug a docker container?\n",
      "A: Launch the container image in interactive mode and overriding the entrypoint, so that it starts a bash command.\n",
      "docker run -it --entrypoint bash <image>\n",
      "If the container is already running, execute a command in the specific container:\n",
      "docker ps (find the container-id)\n",
      "docker exec -it <container-id> bash\n",
      "(Marcos MJD)\n",
      "\n",
      "Q: How do I copy files from my local machine to docker container?\n",
      "A: You can copy files from your local machine into a Docker container using the docker cp command. Here's how to do it:\n",
      "To copy a file or directory from your local machine into a running Docker container, you can use the `docker cp command`. The basic syntax is as follows:\n",
      "docker cp /path/to/local/file_or_directory container_id:/path/in/container\n",
      "Hrithik Kumar Advani\n",
      "\n",
      "Q: How do I copy files from a different folder into docker container’s working directory?\n",
      "A: You can copy files from your local machine into a Docker container using the docker cp command. Here's how to do it:\n",
      "In the Dockerfile, you can provide the folder containing the files that you want to copy over. The basic syntax is as follows:\n",
      "COPY [\"src/predict.py\", \"models/xgb_model.bin\", \"./\"]\t\t\t\t\t\t\t\t\t\t\tGopakumar Gopinathan\n",
      "Length of the prompt: 1462\n"
     ]
    }
   ],
   "source": [
    "# query = 'How do I execute a command in a running docker container?'\n",
    "\n",
    "def elastic_search(query):\n",
    "    search_query = {\n",
    "        \"size\": 3,  # Return 3 results\n",
    "        \"query\": {\n",
    "            \"bool\": {\n",
    "                \"must\": {\n",
    "                    \"multi_match\": {\n",
    "                        \"query\": query,\n",
    "                        \"fields\": [\"question^4\", \"text\"],  # Importance levels\n",
    "                        \"type\": \"best_fields\"\n",
    "                    }\n",
    "                },\n",
    "                \"filter\": {\n",
    "                    \"term\": {\n",
    "                        \"course\": \"machine-learning-zoomcamp\"\n",
    "                    }\n",
    "                }\n",
    "            }\n",
    "        }\n",
    "    }\n",
    "\n",
    "    response = es_client.search(index=index_name, body=search_query)\n",
    "\n",
    "    result_docs = []\n",
    "    for hit in response['hits']['hits']:\n",
    "        question = hit['_source']['question']\n",
    "        text = hit['_source']['text']\n",
    "        result_docs.append((question, text))\n",
    "\n",
    "    return result_docs\n",
    "\n",
    "\n",
    "results = elastic_search(query)\n",
    "\n",
    "context_template = \"\"\"\n",
    "Q: {question}\n",
    "A: {text}\n",
    "\"\"\".strip()\n",
    "\n",
    "prompt_template = \"\"\"\n",
    "You're a course teaching assistant. Answer the QUESTION based on the CONTEXT from the FAQ database.\n",
    "Use only the facts from the CONTEXT when answering the QUESTION.\n",
    "\n",
    "QUESTION: {question}\n",
    "\n",
    "CONTEXT:\n",
    "{context}\n",
    "\"\"\".strip()\n",
    "\n",
    "\n",
    "context = \"\\n\\n\".join([context_template.format(question=q, text=t) for q, t in results])\n",
    "\n",
    "\n",
    "prompt = prompt_template.format(question=question, context=context)\n",
    "\n",
    "\n",
    "print(prompt)\n",
    "print(f\"Length of the prompt: {len(prompt)}\")\n"
   ]
  },
  {
   "cell_type": "markdown",
   "id": "137a7abf-1e51-4732-9d6b-0bc38e750671",
   "metadata": {},
   "source": [
    "### Q6"
   ]
  },
  {
   "cell_type": "raw",
   "id": "e090d6c4-158f-41e6-ac57-0af00b4e7ef2",
   "metadata": {},
   "source": [
    "Tokens\n",
    "When we use the OpenAI Platform, we're charged by the number of tokens we send in our prompt and receive in the response.\n",
    "\n",
    "The OpenAI python package uses tiktoken for tokenization:\n",
    "\n",
    "pip install tiktoken\n",
    "Let's calculate the number of tokens in our query:\n",
    "\n",
    "encoding = tiktoken.encoding_for_model(\"gpt-4o\")\n",
    "Use the encode function. How many tokens does our prompt have?\n",
    "\n",
    "122\n",
    "222\n",
    "322\n",
    "422\n",
    "Note: to decode back a token into a word, you can use the decode_single_token_bytes function:\n",
    "\n",
    "encoding.decode_single_token_bytes(63842)"
   ]
  },
  {
   "cell_type": "code",
   "execution_count": 31,
   "id": "519a56be-ce33-4ffd-bfc7-b91f1a85c234",
   "metadata": {},
   "outputs": [],
   "source": [
    "from groq import Groq\n",
    "import os\n",
    "\n",
    "client = Groq(api_key=os.getenv(\"GROQ_API_KEY\"))\n",
    "\n",
    "query = \"How do I execute a command in a running docker container?\"\n",
    "\n",
    "response = client.chat.completions.create(\n",
    "    messages=[{\"role\": \"user\", \"content\": query}],\n",
    "    model=\"llama3-8b-8192\",\n",
    ")"
   ]
  },
  {
   "cell_type": "code",
   "execution_count": 36,
   "id": "0f91932f-e8be-44cb-b233-78dbd45575db",
   "metadata": {},
   "outputs": [
    {
     "name": "stdout",
     "output_type": "stream",
     "text": [
      "Requirement already satisfied: tiktoken in c:\\users\\pc\\anaconda3\\lib\\site-packages (0.7.0)\n",
      "Requirement already satisfied: regex>=2022.1.18 in c:\\users\\pc\\anaconda3\\lib\\site-packages (from tiktoken) (2023.12.25)\n",
      "Requirement already satisfied: requests>=2.26.0 in c:\\users\\pc\\anaconda3\\lib\\site-packages (from tiktoken) (2.31.0)\n",
      "Requirement already satisfied: charset-normalizer<4,>=2 in c:\\users\\pc\\anaconda3\\lib\\site-packages (from requests>=2.26.0->tiktoken) (2.0.4)\n",
      "Requirement already satisfied: idna<4,>=2.5 in c:\\users\\pc\\anaconda3\\lib\\site-packages (from requests>=2.26.0->tiktoken) (2.10)\n",
      "Requirement already satisfied: urllib3<3,>=1.21.1 in c:\\users\\pc\\anaconda3\\lib\\site-packages (from requests>=2.26.0->tiktoken) (1.26.16)\n",
      "Requirement already satisfied: certifi>=2017.4.17 in c:\\users\\pc\\anaconda3\\lib\\site-packages (from requests>=2.26.0->tiktoken) (2023.7.22)\n",
      "Number of tokens in the prompt: 322\n"
     ]
    },
    {
     "name": "stderr",
     "output_type": "stream",
     "text": [
      "\n",
      "[notice] A new release of pip is available: 24.0 -> 24.1.1\n",
      "[notice] To update, run: python.exe -m pip install --upgrade pip\n"
     ]
    }
   ],
   "source": [
    "!pip install tiktoken\n",
    "\n",
    "import tiktoken\n",
    "\n",
    "encoding = tiktoken.encoding_for_model(\"gpt-4o\")\n",
    "\n",
    "tokens = encoding.encode(prompt)\n",
    "\n",
    "num_tokens = len(tokens)\n",
    "\n",
    "print(f\"Number of tokens in the prompt: {num_tokens}\")"
   ]
  },
  {
   "cell_type": "markdown",
   "id": "95b72432-32ba-436e-9ed6-e1549dc85d90",
   "metadata": {},
   "source": [
    "### Q7"
   ]
  },
  {
   "cell_type": "raw",
   "id": "eb1b1115-392b-4103-ac41-3b58e8c91a53",
   "metadata": {},
   "source": [
    "Bonus: generating the answer (ungraded)\n",
    "Let's send the prompt to OpenAI. What's the response?\n",
    "\n",
    "Note: you can replace OpenAI with Ollama. See module 2."
   ]
  },
  {
   "cell_type": "code",
   "execution_count": 38,
   "id": "a12c0b64-9c4d-4482-bd60-d8a19ef6b4c7",
   "metadata": {},
   "outputs": [
    {
     "name": "stdout",
     "output_type": "stream",
     "text": [
      "Based on the provided context, to execute a command in a running Docker container, you can follow these steps:\n",
      "\n",
      "1. Find the container ID using the command: `docker ps`\n",
      "2. Execute the command in the specific container using: `docker exec -it <container-id> bash`\n",
      "\n",
      "Note that the `-it` option stands for \"interactive\" and \"tty\" mode, which allows the command to be executed as if you were directly logging into the container.\n"
     ]
    }
   ],
   "source": [
    "response = client.chat.completions.create(\n",
    "    messages=[\n",
    "    {\n",
    "    \"role\":\"user\",\n",
    "    \"content\":prompt\n",
    "    }\n",
    "],\n",
    " model=\"llama3-8b-8192\",\n",
    ")\n",
    "\n",
    "print(response.choices[0].message.content)"
   ]
  },
  {
   "cell_type": "code",
   "execution_count": null,
   "id": "bbbdff78-5c8a-400f-9e6e-083ce5e6fd3a",
   "metadata": {},
   "outputs": [],
   "source": []
  }
 ],
 "metadata": {
  "kernelspec": {
   "display_name": "Python 3 (ipykernel)",
   "language": "python",
   "name": "python3"
  },
  "language_info": {
   "codemirror_mode": {
    "name": "ipython",
    "version": 3
   },
   "file_extension": ".py",
   "mimetype": "text/x-python",
   "name": "python",
   "nbconvert_exporter": "python",
   "pygments_lexer": "ipython3",
   "version": "3.10.12"
  }
 },
 "nbformat": 4,
 "nbformat_minor": 5
}
