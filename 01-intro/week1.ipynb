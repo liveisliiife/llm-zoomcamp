{
 "cells": [
  {
   "cell_type": "markdown",
   "id": "ecaf7368-1ade-4337-b044-db70cf0d92fa",
   "metadata": {},
   "source": [
    "## configuring environment"
   ]
  },
  {
   "cell_type": "code",
   "execution_count": 1,
   "id": "ebdf186a-0c32-479d-bc0b-24497a8a9d64",
   "metadata": {},
   "outputs": [],
   "source": [
    "# import libraries\n",
    "\n",
    "from groq import Groq\n",
    "import os "
   ]
  },
  {
   "cell_type": "code",
   "execution_count": 3,
   "id": "88c076e2-c5f5-4305-8951-5698791fa25c",
   "metadata": {},
   "outputs": [],
   "source": [
    "# create client calling Groq class\n",
    "\n",
    "client = Groq(api_key=os.getenv(\"GROQ_API_KEY\"))"
   ]
  },
  {
   "cell_type": "code",
   "execution_count": 4,
   "id": "c7a27091-338f-4045-aef4-e33a0dca2c7f",
   "metadata": {},
   "outputs": [],
   "source": [
    "# create a query\n",
    "\n",
    "response = client.chat.completions.create(\n",
    "    messages=[\n",
    "    { \n",
    "    \"role\":\"user\",\n",
    "    \"content\":\"Is it too late to join the course?\",\n",
    "    }\n",
    "],\n",
    " model=\"llama3-8b-8192\",\n",
    ")\n",
    "     "
   ]
  },
  {
   "cell_type": "code",
   "execution_count": 5,
   "id": "cff626fd-b65e-43f9-bd36-983c1ae2d629",
   "metadata": {},
   "outputs": [
    {
     "name": "stdout",
     "output_type": "stream",
     "text": [
      "I'm happy to help! However, I'm a large language model, I don't have any information about a specific course you're referring to. Could you please provide more context or details about the course you're interested in joining?\n"
     ]
    }
   ],
   "source": [
    "# print the response\n",
    "\n",
    "print(response.choices[0].message.content)"
   ]
  },
  {
   "cell_type": "markdown",
   "id": "cc5e755b-08e0-41f4-8664-e37cf6a266d8",
   "metadata": {},
   "source": [
    "## retrieval and search"
   ]
  },
  {
   "cell_type": "code",
   "execution_count": null,
   "id": "0de9808b-b4ad-4563-8139-f2eae5b5afcd",
   "metadata": {},
   "outputs": [],
   "source": []
  }
 ],
 "metadata": {
  "kernelspec": {
   "display_name": "Python 3 (ipykernel)",
   "language": "python",
   "name": "python3"
  },
  "language_info": {
   "codemirror_mode": {
    "name": "ipython",
    "version": 3
   },
   "file_extension": ".py",
   "mimetype": "text/x-python",
   "name": "python",
   "nbconvert_exporter": "python",
   "pygments_lexer": "ipython3",
   "version": "3.10.13"
  }
 },
 "nbformat": 4,
 "nbformat_minor": 5
}
