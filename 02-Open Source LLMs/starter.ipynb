{
 "cells": [
  {
   "cell_type": "code",
   "execution_count": 1,
   "id": "726aa200-06ea-466d-af62-f45d598df59a",
   "metadata": {
    "execution": {
     "iopub.execute_input": "2024-07-09T07:49:54.093666Z",
     "iopub.status.busy": "2024-07-09T07:49:54.093405Z",
     "iopub.status.idle": "2024-07-09T07:49:55.357782Z",
     "shell.execute_reply": "2024-07-09T07:49:55.357084Z",
     "shell.execute_reply.started": "2024-07-09T07:49:54.093643Z"
    },
    "tags": []
   },
   "outputs": [
    {
     "name": "stdout",
     "output_type": "stream",
     "text": [
      "--2024-07-09 07:49:55--  https://raw.githubusercontent.com/alexeygrigorev/minsearch/main/minsearch.py\n",
      "Resolving raw.githubusercontent.com (raw.githubusercontent.com)... 185.199.108.133, 185.199.109.133, 185.199.110.133, ...\n",
      "Connecting to raw.githubusercontent.com (raw.githubusercontent.com)|185.199.108.133|:443... connected.\n",
      "HTTP request sent, awaiting response... 200 OK\n",
      "Length: 3832 (3.7K) [text/plain]\n",
      "Saving to: ‘minsearch.py’\n",
      "\n",
      "minsearch.py        100%[===================>]   3.74K  --.-KB/s    in 0s      \n",
      "\n",
      "2024-07-09 07:49:55 (69.3 MB/s) - ‘minsearch.py’ saved [3832/3832]\n",
      "\n"
     ]
    }
   ],
   "source": [
    "!rm -f minsearch.py\n",
    "!wget https://raw.githubusercontent.com/alexeygrigorev/minsearch/main/minsearch.py"
   ]
  },
  {
   "cell_type": "code",
   "execution_count": 2,
   "id": "2e74e854-aaae-4e2a-86cb-5ddaeb9492e0",
   "metadata": {
    "execution": {
     "iopub.execute_input": "2024-07-09T07:50:04.935278Z",
     "iopub.status.busy": "2024-07-09T07:50:04.934874Z",
     "iopub.status.idle": "2024-07-09T07:50:07.879765Z",
     "shell.execute_reply": "2024-07-09T07:50:07.879099Z",
     "shell.execute_reply.started": "2024-07-09T07:50:04.935246Z"
    },
    "tags": []
   },
   "outputs": [
    {
     "data": {
      "text/plain": [
       "<minsearch.Index at 0x7f4b9a39d850>"
      ]
     },
     "execution_count": 2,
     "metadata": {},
     "output_type": "execute_result"
    }
   ],
   "source": [
    "import requests \n",
    "import minsearch\n",
    "\n",
    "docs_url = 'https://github.com/DataTalksClub/llm-zoomcamp/blob/main/01-intro/documents.json?raw=1'\n",
    "docs_response = requests.get(docs_url)\n",
    "documents_raw = docs_response.json()\n",
    "\n",
    "documents = []\n",
    "\n",
    "for course in documents_raw:\n",
    "    course_name = course['course']\n",
    "\n",
    "    for doc in course['documents']:\n",
    "        doc['course'] = course_name\n",
    "        documents.append(doc)\n",
    "\n",
    "index = minsearch.Index(\n",
    "    text_fields=[\"question\", \"text\", \"section\"],\n",
    "    keyword_fields=[\"course\"]\n",
    ")\n",
    "\n",
    "index.fit(documents)"
   ]
  },
  {
   "cell_type": "code",
   "execution_count": 3,
   "id": "69b10802-20c2-4c6f-acde-e5a5f7137bbe",
   "metadata": {
    "execution": {
     "iopub.execute_input": "2024-07-09T07:50:11.099389Z",
     "iopub.status.busy": "2024-07-09T07:50:11.098894Z",
     "iopub.status.idle": "2024-07-09T07:50:11.103614Z",
     "shell.execute_reply": "2024-07-09T07:50:11.102844Z",
     "shell.execute_reply.started": "2024-07-09T07:50:11.099357Z"
    },
    "tags": []
   },
   "outputs": [],
   "source": [
    "def search(query):\n",
    "    boost = {'question': 3.0, 'section': 0.5}\n",
    "\n",
    "    results = index.search(\n",
    "        query=query,\n",
    "        filter_dict={'course': 'data-engineering-zoomcamp'},\n",
    "        boost_dict=boost,\n",
    "        num_results=5\n",
    "    )\n",
    "\n",
    "    return results"
   ]
  },
  {
   "cell_type": "code",
   "execution_count": 4,
   "id": "a95fe4af-01b1-40a1-b426-1150bda48114",
   "metadata": {
    "execution": {
     "iopub.execute_input": "2024-07-09T07:51:10.514306Z",
     "iopub.status.busy": "2024-07-09T07:51:10.513911Z",
     "iopub.status.idle": "2024-07-09T07:51:14.697106Z",
     "shell.execute_reply": "2024-07-09T07:51:14.696437Z",
     "shell.execute_reply.started": "2024-07-09T07:51:10.514279Z"
    },
    "tags": []
   },
   "outputs": [
    {
     "name": "stdout",
     "output_type": "stream",
     "text": [
      "Collecting groq\n",
      "  Downloading groq-0.9.0-py3-none-any.whl.metadata (13 kB)\n",
      "Requirement already satisfied: anyio<5,>=3.5.0 in /opt/saturncloud/envs/saturn/lib/python3.9/site-packages (from groq) (3.7.1)\n",
      "Collecting distro<2,>=1.7.0 (from groq)\n",
      "  Downloading distro-1.9.0-py3-none-any.whl.metadata (6.8 kB)\n",
      "Collecting httpx<1,>=0.23.0 (from groq)\n",
      "  Downloading httpx-0.27.0-py3-none-any.whl.metadata (7.2 kB)\n",
      "Requirement already satisfied: pydantic<3,>=1.9.0 in /opt/saturncloud/envs/saturn/lib/python3.9/site-packages (from groq) (2.5.3)\n",
      "Requirement already satisfied: sniffio in /opt/saturncloud/envs/saturn/lib/python3.9/site-packages (from groq) (1.3.0)\n",
      "Requirement already satisfied: typing-extensions<5,>=4.7 in /opt/saturncloud/envs/saturn/lib/python3.9/site-packages (from groq) (4.9.0)\n",
      "Requirement already satisfied: idna>=2.8 in /opt/saturncloud/envs/saturn/lib/python3.9/site-packages (from anyio<5,>=3.5.0->groq) (3.6)\n",
      "Requirement already satisfied: exceptiongroup in /opt/saturncloud/envs/saturn/lib/python3.9/site-packages (from anyio<5,>=3.5.0->groq) (1.2.0)\n",
      "Requirement already satisfied: certifi in /opt/saturncloud/envs/saturn/lib/python3.9/site-packages (from httpx<1,>=0.23.0->groq) (2023.11.17)\n",
      "Collecting httpcore==1.* (from httpx<1,>=0.23.0->groq)\n",
      "  Downloading httpcore-1.0.5-py3-none-any.whl.metadata (20 kB)\n",
      "Requirement already satisfied: h11<0.15,>=0.13 in /opt/saturncloud/envs/saturn/lib/python3.9/site-packages (from httpcore==1.*->httpx<1,>=0.23.0->groq) (0.14.0)\n",
      "Requirement already satisfied: annotated-types>=0.4.0 in /opt/saturncloud/envs/saturn/lib/python3.9/site-packages (from pydantic<3,>=1.9.0->groq) (0.6.0)\n",
      "Requirement already satisfied: pydantic-core==2.14.6 in /opt/saturncloud/envs/saturn/lib/python3.9/site-packages (from pydantic<3,>=1.9.0->groq) (2.14.6)\n",
      "Downloading groq-0.9.0-py3-none-any.whl (103 kB)\n",
      "\u001b[2K   \u001b[90m━━━━━━━━━━━━━━━━━━━━━━━━━━━━━━━━━━━━━━━━\u001b[0m \u001b[32m103.5/103.5 kB\u001b[0m \u001b[31m5.4 MB/s\u001b[0m eta \u001b[36m0:00:00\u001b[0m\n",
      "\u001b[?25hDownloading distro-1.9.0-py3-none-any.whl (20 kB)\n",
      "Downloading httpx-0.27.0-py3-none-any.whl (75 kB)\n",
      "\u001b[2K   \u001b[90m━━━━━━━━━━━━━━━━━━━━━━━━━━━━━━━━━━━━━━━━\u001b[0m \u001b[32m75.6/75.6 kB\u001b[0m \u001b[31m11.6 MB/s\u001b[0m eta \u001b[36m0:00:00\u001b[0m\n",
      "\u001b[?25hDownloading httpcore-1.0.5-py3-none-any.whl (77 kB)\n",
      "\u001b[2K   \u001b[90m━━━━━━━━━━━━━━━━━━━━━━━━━━━━━━━━━━━━━━━━\u001b[0m \u001b[32m77.9/77.9 kB\u001b[0m \u001b[31m10.5 MB/s\u001b[0m eta \u001b[36m0:00:00\u001b[0m\n",
      "\u001b[?25hInstalling collected packages: httpcore, distro, httpx, groq\n",
      "Successfully installed distro-1.9.0 groq-0.9.0 httpcore-1.0.5 httpx-0.27.0\n"
     ]
    }
   ],
   "source": [
    "!pip install groq\n",
    "from groq import Groq\n",
    "import os "
   ]
  },
  {
   "cell_type": "code",
   "execution_count": 6,
   "id": "f3521b03-eb3c-4ed3-82ee-d51976887b76",
   "metadata": {
    "execution": {
     "iopub.execute_input": "2024-07-09T07:52:03.660426Z",
     "iopub.status.busy": "2024-07-09T07:52:03.660014Z",
     "iopub.status.idle": "2024-07-09T07:52:03.673147Z",
     "shell.execute_reply": "2024-07-09T07:52:03.672532Z",
     "shell.execute_reply.started": "2024-07-09T07:52:03.660398Z"
    },
    "tags": []
   },
   "outputs": [],
   "source": [
    "client = Groq(api_key=os.getenv(\"GROQ_API_KEY\"))"
   ]
  },
  {
   "cell_type": "code",
   "execution_count": 7,
   "id": "aa7ed6df-22bb-4b21-b88c-4377d89ae0c2",
   "metadata": {
    "execution": {
     "iopub.execute_input": "2024-07-09T07:52:41.212859Z",
     "iopub.status.busy": "2024-07-09T07:52:41.212461Z",
     "iopub.status.idle": "2024-07-09T07:52:41.218537Z",
     "shell.execute_reply": "2024-07-09T07:52:41.217824Z",
     "shell.execute_reply.started": "2024-07-09T07:52:41.212831Z"
    },
    "tags": []
   },
   "outputs": [],
   "source": [
    "def build_prompt(query, search_results):\n",
    "    prompt_template = \"\"\"\n",
    "You're a course teaching assistant. Answer the QUESTION based on the CONTEXT from the FAQ database.\n",
    "Use only the facts from the CONTEXT when answering the QUESTION.\n",
    "\n",
    "QUESTION: {question}\n",
    "\n",
    "CONTEXT: \n",
    "{context}\n",
    "\"\"\".strip()\n",
    "\n",
    "    context = \"\"\n",
    "    \n",
    "    for doc in search_results:\n",
    "        context = context + f\"section: {doc['section']}\\nquestion: {doc['question']}\\nanswer: {doc['text']}\\n\\n\"\n",
    "    \n",
    "    prompt = prompt_template.format(question=query, context=context).strip()\n",
    "    return prompt\n",
    "\n",
    "def llm(prompt):\n",
    "    response = client.chat.completions.create(\n",
    "    messages=[\n",
    "    { \n",
    "    \"role\":\"user\",\n",
    "    \"content\":prompt,\n",
    "    }\n",
    "],\n",
    " model=\"llama3-8b-8192\"\n",
    ")\n",
    "  \n",
    "    \n",
    "    return response.choices[0].message.content"
   ]
  },
  {
   "cell_type": "code",
   "execution_count": 8,
   "id": "48917260-94bd-484c-835f-de7d44e8909a",
   "metadata": {
    "execution": {
     "iopub.execute_input": "2024-07-09T07:53:07.434071Z",
     "iopub.status.busy": "2024-07-09T07:53:07.433659Z",
     "iopub.status.idle": "2024-07-09T07:53:07.437959Z",
     "shell.execute_reply": "2024-07-09T07:53:07.437280Z",
     "shell.execute_reply.started": "2024-07-09T07:53:07.434039Z"
    },
    "tags": []
   },
   "outputs": [],
   "source": [
    "def rag(query):\n",
    "    search_results = search(query)\n",
    "    prompt = build_prompt(query, search_results)\n",
    "    answer = llm(prompt)\n",
    "    return answer"
   ]
  },
  {
   "cell_type": "code",
   "execution_count": 9,
   "id": "c99f7aea-a83b-4a67-8974-b63a913a7867",
   "metadata": {
    "execution": {
     "iopub.execute_input": "2024-07-09T07:53:51.319350Z",
     "iopub.status.busy": "2024-07-09T07:53:51.318967Z",
     "iopub.status.idle": "2024-07-09T07:53:51.727817Z",
     "shell.execute_reply": "2024-07-09T07:53:51.726904Z",
     "shell.execute_reply.started": "2024-07-09T07:53:51.319321Z"
    },
    "tags": []
   },
   "outputs": [
    {
     "data": {
      "text/plain": [
       "'Based on the context, it is not too late to join the course. According to the FAQ, \"Yes, even if you don\\'t register, you\\'re still eligible to submit the homeworks.\"'"
      ]
     },
     "execution_count": 9,
     "metadata": {},
     "output_type": "execute_result"
    }
   ],
   "source": [
    "rag(\"Is it too late to join the course?\")"
   ]
  },
  {
   "cell_type": "code",
   "execution_count": null,
   "id": "5189db3d-c562-4342-9291-40e8b203bafe",
   "metadata": {},
   "outputs": [],
   "source": []
  }
 ],
 "metadata": {
  "kernelspec": {
   "display_name": "saturn (Python 3)",
   "language": "python",
   "name": "python3"
  },
  "language_info": {
   "codemirror_mode": {
    "name": "ipython",
    "version": 3
   },
   "file_extension": ".py",
   "mimetype": "text/x-python",
   "name": "python",
   "nbconvert_exporter": "python",
   "pygments_lexer": "ipython3",
   "version": "3.9.18"
  }
 },
 "nbformat": 4,
 "nbformat_minor": 5
}
